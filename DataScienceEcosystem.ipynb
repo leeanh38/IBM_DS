{
  "nbformat": 4,
  "nbformat_minor": 0,
  "metadata": {
    "colab": {
      "provenance": []
    },
    "kernelspec": {
      "name": "python3",
      "display_name": "Python 3"
    },
    "language_info": {
      "name": "python"
    }
  },
  "cells": [
    {
      "cell_type": "markdown",
      "source": [
        "#Data Science Tools and Ecosystem\n"
      ],
      "metadata": {
        "id": "s7zLvNRjLFDp"
      }
    },
    {
      "cell_type": "markdown",
      "source": [
        "In this notebook, Data Science Tools and Ecosystem are summarized."
      ],
      "metadata": {
        "id": "pQ1UHhoVLqb9"
      }
    },
    {
      "cell_type": "markdown",
      "source": [
        "**Objectives:**\n",
        "* List popular languages for Data Science\n",
        "* List commonly used libraries for Data Science\n",
        "* List of open-source Data Science development environments"
      ],
      "metadata": {
        "id": "EWsw552SQwNz"
      }
    },
    {
      "cell_type": "markdown",
      "source": [
        "##Author\n",
        "Lê Đức Anh"
      ],
      "metadata": {
        "id": "gS8CKrdSRrcd"
      }
    },
    {
      "cell_type": "markdown",
      "source": [
        "Some of the popular languages that Data Scientists use are:\n",
        "1. Python\n",
        "2. R\n",
        "3. SQL"
      ],
      "metadata": {
        "id": "CGKPjROWL6lF"
      }
    },
    {
      "cell_type": "markdown",
      "source": [
        "Some of the commonly used libraries used by Data Scientists include:\n",
        "1. Pandas\n",
        "2. Numpy\n",
        "3. Scikit-learn"
      ],
      "metadata": {
        "id": "78GAigSNOQR-"
      }
    },
    {
      "cell_type": "markdown",
      "source": [
        "| Data Science Tools |\n",
        "| --- |\n",
        "| JupyterLab |\n",
        "| Anaconda |\n",
        "| VSCode |"
      ],
      "metadata": {
        "id": "6iEJ5CLTOo1A"
      }
    },
    {
      "cell_type": "markdown",
      "source": [
        "###Below are a few examples of evaluating arithmetic expressions in Python.\n"
      ],
      "metadata": {
        "id": "1hV_X9g6PWhO"
      }
    },
    {
      "cell_type": "code",
      "execution_count": 1,
      "metadata": {
        "colab": {
          "base_uri": "https://localhost:8080/"
        },
        "id": "Q9GQCF7OK4FZ",
        "outputId": "3633f0b2-0478-4711-f5ed-84e4a3a471a2"
      },
      "outputs": [
        {
          "output_type": "execute_result",
          "data": {
            "text/plain": [
              "17"
            ]
          },
          "metadata": {},
          "execution_count": 1
        }
      ],
      "source": [
        "#This a simple arithmetic expression to mutiply then add integers\n",
        "(3*4)+5"
      ]
    },
    {
      "cell_type": "code",
      "source": [
        "#This will convert 200 minutes to hours by diving by 60\n",
        "200/60"
      ],
      "metadata": {
        "colab": {
          "base_uri": "https://localhost:8080/"
        },
        "id": "ukZ6UsQtLSTS",
        "outputId": "d8e40ae4-6a87-445d-f354-c5dfea2e6170"
      },
      "execution_count": 2,
      "outputs": [
        {
          "output_type": "execute_result",
          "data": {
            "text/plain": [
              "3.3333333333333335"
            ]
          },
          "metadata": {},
          "execution_count": 2
        }
      ]
    }
  ]
}